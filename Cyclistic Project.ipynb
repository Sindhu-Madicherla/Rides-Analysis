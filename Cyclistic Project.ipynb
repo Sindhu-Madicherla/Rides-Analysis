{
 "cells": [
  {
   "cell_type": "markdown",
   "metadata": {},
   "source": [
    "# Data Description\n",
    "* We have 4 quarters of ride data of the company 'EasyRide'.\n",
    "* The data is from the last 3 quarters of 2019, and the first quarter of 2020\n",
    "* The objective is to understand the differences in the ride patterns of the members and casual riders, so that more number of casual riders are converted into members . "
   ]
  },
  {
   "cell_type": "code",
   "execution_count": 96,
   "metadata": {},
   "outputs": [],
   "source": [
    "## Import libraries, and read data files\n",
    "\n",
    "import pandas as pd\n",
    "import numpy as np\n",
    "import matplotlib.pyplot as plt\n",
    "import seaborn as sns\n",
    "import os\n",
    "\n",
    "FILES_PATH = 'C:\\Dev\\ML\\Projects\\Google Course Capstone\\Data'\n",
    "dataFiles = os.listdir(FILES_PATH)\n",
    "\n",
    "for file in dataFiles :\n",
    "    quarter = file.split('_')[3].split('.')[0]\n",
    "    globals()['%s' % quarter] = pd.read_csv(FILES_PATH+'\\\\'+file)"
   ]
  },
  {
   "cell_type": "markdown",
   "metadata": {},
   "source": [
    "# Data Validation\n",
    "\n",
    "* As the column names are different for each sheet, they have to be standardised according to the latest data.\n",
    "* All the data will be combined into one master sheet once the columns are validated.\n"
   ]
  },
  {
   "cell_type": "code",
   "execution_count": 97,
   "metadata": {},
   "outputs": [],
   "source": [
    "## Function to check if all the sheets have the same column names\n",
    "\n",
    "def check_columns(Q1,Q2,Q3,Q4):\n",
    "    i=1\n",
    "    cols = set(Q1.columns)\n",
    "    print(cols)\n",
    "\n",
    "    for quarter in [Q1,Q2,Q3,Q4]:  \n",
    "        columns = set(quarter.columns)\n",
    "        if cols != columns :\n",
    "            print('Q1 and Q'+str(i)+' have different columns')\n",
    "            print(columns)\n",
    "        else :\n",
    "            print('Q1 and Q'+str(i)+' have same columns')\n",
    "        print('\\n')\n",
    "        i = i+1       \n",
    "             \n",
    "    "
   ]
  },
  {
   "cell_type": "code",
   "execution_count": 98,
   "metadata": {},
   "outputs": [
    {
     "name": "stdout",
     "output_type": "stream",
     "text": [
      "{'ride_id', 'start_station_id', 'ended_at', 'started_at', 'end_lng', 'rideable_type', 'end_lat', 'end_station_id', 'end_station_name', 'member_casual', 'start_lng', 'start_station_name', 'start_lat'}\n",
      "Q1 and Q1 have same columns\n",
      "\n",
      "\n",
      "Q1 and Q2 have different columns\n",
      "{'01 - Rental Details Rental ID', '05 - Member Details Member Birthday Year', '01 - Rental Details Local End Time', '02 - Rental End Station ID', '01 - Rental Details Local Start Time', 'User Type', '02 - Rental End Station Name', '01 - Rental Details Duration In Seconds Uncapped', '03 - Rental Start Station Name', 'Member Gender', '01 - Rental Details Bike ID', '03 - Rental Start Station ID'}\n",
      "\n",
      "\n",
      "Q1 and Q3 have different columns\n",
      "{'tripduration', 'to_station_id', 'to_station_name', 'start_time', 'from_station_id', 'gender', 'birthyear', 'usertype', 'from_station_name', 'end_time', 'bikeid', 'trip_id'}\n",
      "\n",
      "\n",
      "Q1 and Q4 have different columns\n",
      "{'tripduration', 'to_station_id', 'to_station_name', 'start_time', 'from_station_id', 'gender', 'birthyear', 'usertype', 'from_station_name', 'end_time', 'bikeid', 'trip_id'}\n",
      "\n",
      "\n"
     ]
    }
   ],
   "source": [
    "check_columns(Q1,Q2,Q3,Q4)"
   ]
  },
  {
   "cell_type": "code",
   "execution_count": 99,
   "metadata": {},
   "outputs": [],
   "source": [
    "## Rename columns and make all data consistent with Q1 2020\n",
    "\n",
    "Q2.rename(columns = {'01 - Rental Details Rental ID':'ride_id',\n",
    "                     '01 - Rental Details Bike ID':'rideable_type',\n",
    "                     '01 - Rental Details Local Start Time':'started_at',\n",
    "                     '01 - Rental Details Local End Time' : 'ended_at',\n",
    "                      '03 - Rental Start Station Name':'start_station_name',\n",
    "                     '03 - Rental Start Station ID':'start_station_id',\n",
    "                    '02 - Rental End Station Name':'end_station_name',\n",
    "                     '02 - Rental End Station ID':'end_station_id',\n",
    "                     'User Type':'member_casual'},inplace = True)\n",
    "\n",
    "Q3.rename(columns = {'trip_id':'ride_id',\n",
    "                     'bikeid':'rideable_type',\n",
    "                     'start_time':'started_at',\n",
    "                     'end_time':'ended_at',\n",
    "                    'from_station_name':'start_station_name',\n",
    "                    'from_station_id':'start_station_id',\n",
    "                    'to_station_name':'end_station_name',\n",
    "                    'to_station_id':'end_station_id',\n",
    "                    'usertype':'member_casual'},inplace = True)\n",
    "\n",
    "Q4.rename(columns = {'trip_id':'ride_id',\n",
    "                     'bikeid':'rideable_type',\n",
    "                     'start_time':'started_at',\n",
    "                     'end_time':'ended_at',\n",
    "                    'from_station_name':'start_station_name',\n",
    "                    'from_station_id':'start_station_id',\n",
    "                    'to_station_name':'end_station_name',\n",
    "                    'to_station_id':'end_station_id',\n",
    "                    'usertype':'member_casual'},inplace = True)\n"
   ]
  },
  {
   "cell_type": "code",
   "execution_count": 100,
   "metadata": {},
   "outputs": [],
   "source": [
    "## Dropping unnecessary columns from all sheets\n",
    "\n",
    "Q1 = Q1.drop(columns = ['start_lat','start_lng','end_lat','end_lng'],errors='ignore')\n",
    "Q2 = Q2.drop(columns=['01 - Rental Details Duration In Seconds Uncapped','Member Gender','05 - Member Details Member Birthday Year'],errors='ignore')\n",
    "Q3 = Q3.drop(columns=['tripduration','gender','birthyear'],errors='ignore')\n",
    "Q4 = Q4.drop(columns=['tripduration','gender','birthyear'],errors='ignore')"
   ]
  },
  {
   "cell_type": "code",
   "execution_count": 101,
   "metadata": {},
   "outputs": [
    {
     "name": "stdout",
     "output_type": "stream",
     "text": [
      "{'ride_id', 'start_station_id', 'ended_at', 'started_at', 'rideable_type', 'end_station_id', 'end_station_name', 'member_casual', 'start_station_name'}\n",
      "Q1 and Q1 have same columns\n",
      "\n",
      "\n",
      "Q1 and Q2 have same columns\n",
      "\n",
      "\n",
      "Q1 and Q3 have same columns\n",
      "\n",
      "\n",
      "Q1 and Q4 have same columns\n",
      "\n",
      "\n"
     ]
    }
   ],
   "source": [
    "## Checking for column consistency again\n",
    "\n",
    "check_columns(Q1,Q2,Q3,Q4)"
   ]
  },
  {
   "cell_type": "code",
   "execution_count": 102,
   "metadata": {},
   "outputs": [
    {
     "data": {
      "text/html": [
       "<div>\n",
       "<style scoped>\n",
       "    .dataframe tbody tr th:only-of-type {\n",
       "        vertical-align: middle;\n",
       "    }\n",
       "\n",
       "    .dataframe tbody tr th {\n",
       "        vertical-align: top;\n",
       "    }\n",
       "\n",
       "    .dataframe thead th {\n",
       "        text-align: right;\n",
       "    }\n",
       "</style>\n",
       "<table border=\"1\" class=\"dataframe\">\n",
       "  <thead>\n",
       "    <tr style=\"text-align: right;\">\n",
       "      <th></th>\n",
       "      <th>ride_id</th>\n",
       "      <th>started_at</th>\n",
       "      <th>ended_at</th>\n",
       "      <th>rideable_type</th>\n",
       "      <th>start_station_id</th>\n",
       "      <th>start_station_name</th>\n",
       "      <th>end_station_id</th>\n",
       "      <th>end_station_name</th>\n",
       "      <th>member_casual</th>\n",
       "    </tr>\n",
       "  </thead>\n",
       "  <tbody>\n",
       "    <tr>\n",
       "      <th>0</th>\n",
       "      <td>22178529</td>\n",
       "      <td>2019-04-01 00:02:22</td>\n",
       "      <td>2019-04-01 00:09:48</td>\n",
       "      <td>6251</td>\n",
       "      <td>81</td>\n",
       "      <td>Daley Center Plaza</td>\n",
       "      <td>56.0</td>\n",
       "      <td>Desplaines St &amp; Kinzie St</td>\n",
       "      <td>Subscriber</td>\n",
       "    </tr>\n",
       "    <tr>\n",
       "      <th>1</th>\n",
       "      <td>22178530</td>\n",
       "      <td>2019-04-01 00:03:02</td>\n",
       "      <td>2019-04-01 00:20:30</td>\n",
       "      <td>6226</td>\n",
       "      <td>317</td>\n",
       "      <td>Wood St &amp; Taylor St</td>\n",
       "      <td>59.0</td>\n",
       "      <td>Wabash Ave &amp; Roosevelt Rd</td>\n",
       "      <td>Subscriber</td>\n",
       "    </tr>\n",
       "    <tr>\n",
       "      <th>2</th>\n",
       "      <td>22178531</td>\n",
       "      <td>2019-04-01 00:11:07</td>\n",
       "      <td>2019-04-01 00:15:19</td>\n",
       "      <td>5649</td>\n",
       "      <td>283</td>\n",
       "      <td>LaSalle St &amp; Jackson Blvd</td>\n",
       "      <td>174.0</td>\n",
       "      <td>Canal St &amp; Madison St</td>\n",
       "      <td>Subscriber</td>\n",
       "    </tr>\n",
       "    <tr>\n",
       "      <th>3</th>\n",
       "      <td>22178532</td>\n",
       "      <td>2019-04-01 00:13:01</td>\n",
       "      <td>2019-04-01 00:18:58</td>\n",
       "      <td>4151</td>\n",
       "      <td>26</td>\n",
       "      <td>McClurg Ct &amp; Illinois St</td>\n",
       "      <td>133.0</td>\n",
       "      <td>Kingsbury St &amp; Kinzie St</td>\n",
       "      <td>Subscriber</td>\n",
       "    </tr>\n",
       "    <tr>\n",
       "      <th>4</th>\n",
       "      <td>22178533</td>\n",
       "      <td>2019-04-01 00:19:26</td>\n",
       "      <td>2019-04-01 00:36:13</td>\n",
       "      <td>3270</td>\n",
       "      <td>202</td>\n",
       "      <td>Halsted St &amp; 18th St</td>\n",
       "      <td>129.0</td>\n",
       "      <td>Blue Island Ave &amp; 18th St</td>\n",
       "      <td>Subscriber</td>\n",
       "    </tr>\n",
       "  </tbody>\n",
       "</table>\n",
       "</div>"
      ],
      "text/plain": [
       "    ride_id           started_at             ended_at rideable_type  \\\n",
       "0  22178529  2019-04-01 00:02:22  2019-04-01 00:09:48          6251   \n",
       "1  22178530  2019-04-01 00:03:02  2019-04-01 00:20:30          6226   \n",
       "2  22178531  2019-04-01 00:11:07  2019-04-01 00:15:19          5649   \n",
       "3  22178532  2019-04-01 00:13:01  2019-04-01 00:18:58          4151   \n",
       "4  22178533  2019-04-01 00:19:26  2019-04-01 00:36:13          3270   \n",
       "\n",
       "   start_station_id         start_station_name  end_station_id  \\\n",
       "0                81         Daley Center Plaza            56.0   \n",
       "1               317        Wood St & Taylor St            59.0   \n",
       "2               283  LaSalle St & Jackson Blvd           174.0   \n",
       "3                26   McClurg Ct & Illinois St           133.0   \n",
       "4               202       Halsted St & 18th St           129.0   \n",
       "\n",
       "            end_station_name member_casual  \n",
       "0  Desplaines St & Kinzie St    Subscriber  \n",
       "1  Wabash Ave & Roosevelt Rd    Subscriber  \n",
       "2      Canal St & Madison St    Subscriber  \n",
       "3   Kingsbury St & Kinzie St    Subscriber  \n",
       "4  Blue Island Ave & 18th St    Subscriber  "
      ]
     },
     "execution_count": 102,
     "metadata": {},
     "output_type": "execute_result"
    }
   ],
   "source": [
    "## Combining all the sheets into one master sheet\n",
    "\n",
    "frames = [Q2,Q3,Q4,Q1]\n",
    "data = pd.concat(frames,sort=False,ignore_index=True)\n",
    "data.head()"
   ]
  },
  {
   "cell_type": "markdown",
   "metadata": {},
   "source": [
    "# Data Cleanup\n",
    "\n",
    "* There are 3879822 rows , and 9 columns\n",
    "* We have to check for any missing values, incorrect entries, and remove unnecessary entries .\n",
    "* Data types in all columns has to be made consistent"
   ]
  },
  {
   "cell_type": "code",
   "execution_count": 103,
   "metadata": {},
   "outputs": [
    {
     "name": "stdout",
     "output_type": "stream",
     "text": [
      "Number of rows : 3879822\n",
      "Number of columns : 9\n",
      "\n",
      "Getting data information \n",
      "\n",
      "<class 'pandas.core.frame.DataFrame'>\n",
      "RangeIndex: 3879822 entries, 0 to 3879821\n",
      "Data columns (total 9 columns):\n",
      "ride_id               object\n",
      "started_at            object\n",
      "ended_at              object\n",
      "rideable_type         object\n",
      "start_station_id      int64\n",
      "start_station_name    object\n",
      "end_station_id        float64\n",
      "end_station_name      object\n",
      "member_casual         object\n",
      "dtypes: float64(1), int64(1), object(7)\n",
      "memory usage: 266.4+ MB\n"
     ]
    }
   ],
   "source": [
    "## Shape of the dataframe\n",
    "\n",
    "print('Number of rows : '+ str(data.shape[0]) + '\\nNumber of columns : '+ str(data.shape[1])+'\\n')\n",
    "print('Getting data information \\n')\n",
    "data.info()"
   ]
  },
  {
   "cell_type": "code",
   "execution_count": 104,
   "metadata": {},
   "outputs": [
    {
     "data": {
      "text/plain": [
       "ride_id               0\n",
       "started_at            0\n",
       "ended_at              0\n",
       "rideable_type         0\n",
       "start_station_id      0\n",
       "start_station_name    0\n",
       "end_station_id        1\n",
       "end_station_name      1\n",
       "member_casual         0\n",
       "dtype: int64"
      ]
     },
     "execution_count": 104,
     "metadata": {},
     "output_type": "execute_result"
    }
   ],
   "source": [
    "## Checking if any null objects exist column wise\n",
    "\n",
    "data.isnull().sum(axis=0)"
   ]
  },
  {
   "cell_type": "code",
   "execution_count": 105,
   "metadata": {},
   "outputs": [
    {
     "data": {
      "text/html": [
       "<div>\n",
       "<style scoped>\n",
       "    .dataframe tbody tr th:only-of-type {\n",
       "        vertical-align: middle;\n",
       "    }\n",
       "\n",
       "    .dataframe tbody tr th {\n",
       "        vertical-align: top;\n",
       "    }\n",
       "\n",
       "    .dataframe thead th {\n",
       "        text-align: right;\n",
       "    }\n",
       "</style>\n",
       "<table border=\"1\" class=\"dataframe\">\n",
       "  <thead>\n",
       "    <tr style=\"text-align: right;\">\n",
       "      <th></th>\n",
       "      <th>ride_id</th>\n",
       "      <th>started_at</th>\n",
       "      <th>ended_at</th>\n",
       "      <th>rideable_type</th>\n",
       "      <th>start_station_id</th>\n",
       "      <th>start_station_name</th>\n",
       "      <th>end_station_id</th>\n",
       "      <th>end_station_name</th>\n",
       "      <th>member_casual</th>\n",
       "    </tr>\n",
       "  </thead>\n",
       "  <tbody>\n",
       "    <tr>\n",
       "      <th>3867361</th>\n",
       "      <td>157EAA4C4A3C8D36</td>\n",
       "      <td>2020-03-16 11:23:36</td>\n",
       "      <td>2020-03-16 11:23:24</td>\n",
       "      <td>docked_bike</td>\n",
       "      <td>675</td>\n",
       "      <td>HQ QR</td>\n",
       "      <td>NaN</td>\n",
       "      <td>NaN</td>\n",
       "      <td>casual</td>\n",
       "    </tr>\n",
       "  </tbody>\n",
       "</table>\n",
       "</div>"
      ],
      "text/plain": [
       "                  ride_id           started_at             ended_at  \\\n",
       "3867361  157EAA4C4A3C8D36  2020-03-16 11:23:36  2020-03-16 11:23:24   \n",
       "\n",
       "        rideable_type  start_station_id start_station_name  end_station_id  \\\n",
       "3867361   docked_bike               675              HQ QR             NaN   \n",
       "\n",
       "        end_station_name member_casual  \n",
       "3867361              NaN        casual  "
      ]
     },
     "execution_count": 105,
     "metadata": {},
     "output_type": "execute_result"
    }
   ],
   "source": [
    "## There is one missing value.\n",
    "\n",
    "data[data.isnull().any(axis=1)]"
   ]
  },
  {
   "cell_type": "markdown",
   "metadata": {},
   "source": [
    "There is only one row with a missing value, and this can be removed as we have enough data ."
   ]
  },
  {
   "cell_type": "code",
   "execution_count": 106,
   "metadata": {},
   "outputs": [],
   "source": [
    "## Removing the entry\n",
    "\n",
    "data_copy = data\n",
    "data = data.drop(data.index[3867361])\n",
    "data = data.reset_index(drop=True)"
   ]
  },
  {
   "cell_type": "markdown",
   "metadata": {},
   "source": [
    "* All the columns except start and end times can be converted into type string, and then be typecasted into appropriate data types.\n",
    "* The columns for ride start and end times will be converted into type 'Datetime'"
   ]
  },
  {
   "cell_type": "code",
   "execution_count": 107,
   "metadata": {},
   "outputs": [
    {
     "name": "stdout",
     "output_type": "stream",
     "text": [
      "Columns which have data other than string:\n",
      "\n",
      "['ride_id', 'rideable_type', 'start_station_id', 'end_station_id']\n"
     ]
    }
   ],
   "source": [
    "\n",
    "print('Columns which have data other than string:\\n')\n",
    "wrong_cols = [col for col in data.columns if (data[col].map(type)!=str).any()]\n",
    "print(wrong_cols)\n",
    "\n",
    "for col in wrong_cols :\n",
    "    data[col] = data[col].astype(str)\n",
    "    "
   ]
  },
  {
   "cell_type": "code",
   "execution_count": 108,
   "metadata": {},
   "outputs": [
    {
     "data": {
      "text/plain": [
       "Subscriber    2595461\n",
       "Customer       857474\n",
       "member         378407\n",
       "casual          48479\n",
       "Name: member_casual, dtype: int64"
      ]
     },
     "execution_count": 108,
     "metadata": {},
     "output_type": "execute_result"
    }
   ],
   "source": [
    "data['member_casual'].value_counts()"
   ]
  },
  {
   "cell_type": "markdown",
   "metadata": {},
   "source": [
    "* According to older categorisation, members were named as 'Subscriber', and casual riders were named as 'Customer'.\n",
    "* This needs to be modified for consistency in analysis"
   ]
  },
  {
   "cell_type": "code",
   "execution_count": 109,
   "metadata": {},
   "outputs": [],
   "source": [
    "### Replace Subscriber with member, and customer with casual\n",
    "\n",
    "data['member_casual'][data['member_casual']=='Subscriber'] = 'member'\n",
    "data['member_casual'][data['member_casual']=='Customer'] = 'casual'\n",
    "\n"
   ]
  },
  {
   "cell_type": "code",
   "execution_count": 110,
   "metadata": {},
   "outputs": [
    {
     "name": "stdout",
     "output_type": "stream",
     "text": [
      "76.65% of the trips are taken by members, while 23.35% of the trips are taken by Casual riders .\n"
     ]
    }
   ],
   "source": [
    "print(str(np.around(data['member_casual'].value_counts(normalize=True).mul(100)[0],2))+ '% of the trips are taken by members, while '+ str(np.around(data['member_casual'].value_counts(normalize=True).mul(100)[1],2))+'% of the trips are taken by Casual riders .')"
   ]
  },
  {
   "cell_type": "code",
   "execution_count": null,
   "metadata": {},
   "outputs": [],
   "source": []
  },
  {
   "cell_type": "raw",
   "metadata": {},
   "source": [
    "\n",
    "For further analysis, the following fields can be extracted, or calculated .\n",
    "\n",
    "1.) Date of the trip\n",
    "2.) Hour at which the trip was started\n",
    "3.) Month in which the trip was taken\n",
    "4.) Year in which trip was taken\n",
    "5.) Trip time for each ride"
   ]
  },
  {
   "cell_type": "code",
   "execution_count": 111,
   "metadata": {},
   "outputs": [
    {
     "data": {
      "text/html": [
       "<div>\n",
       "<style scoped>\n",
       "    .dataframe tbody tr th:only-of-type {\n",
       "        vertical-align: middle;\n",
       "    }\n",
       "\n",
       "    .dataframe tbody tr th {\n",
       "        vertical-align: top;\n",
       "    }\n",
       "\n",
       "    .dataframe thead th {\n",
       "        text-align: right;\n",
       "    }\n",
       "</style>\n",
       "<table border=\"1\" class=\"dataframe\">\n",
       "  <thead>\n",
       "    <tr style=\"text-align: right;\">\n",
       "      <th></th>\n",
       "      <th>ride_id</th>\n",
       "      <th>started_at</th>\n",
       "      <th>ended_at</th>\n",
       "      <th>rideable_type</th>\n",
       "      <th>start_station_id</th>\n",
       "      <th>start_station_name</th>\n",
       "      <th>end_station_id</th>\n",
       "      <th>end_station_name</th>\n",
       "      <th>member_casual</th>\n",
       "    </tr>\n",
       "  </thead>\n",
       "  <tbody>\n",
       "    <tr>\n",
       "      <th>0</th>\n",
       "      <td>22178529</td>\n",
       "      <td>2019-04-01 00:02:22</td>\n",
       "      <td>2019-04-01 00:09:48</td>\n",
       "      <td>6251</td>\n",
       "      <td>81</td>\n",
       "      <td>Daley Center Plaza</td>\n",
       "      <td>56.0</td>\n",
       "      <td>Desplaines St &amp; Kinzie St</td>\n",
       "      <td>member</td>\n",
       "    </tr>\n",
       "    <tr>\n",
       "      <th>1</th>\n",
       "      <td>22178530</td>\n",
       "      <td>2019-04-01 00:03:02</td>\n",
       "      <td>2019-04-01 00:20:30</td>\n",
       "      <td>6226</td>\n",
       "      <td>317</td>\n",
       "      <td>Wood St &amp; Taylor St</td>\n",
       "      <td>59.0</td>\n",
       "      <td>Wabash Ave &amp; Roosevelt Rd</td>\n",
       "      <td>member</td>\n",
       "    </tr>\n",
       "    <tr>\n",
       "      <th>2</th>\n",
       "      <td>22178531</td>\n",
       "      <td>2019-04-01 00:11:07</td>\n",
       "      <td>2019-04-01 00:15:19</td>\n",
       "      <td>5649</td>\n",
       "      <td>283</td>\n",
       "      <td>LaSalle St &amp; Jackson Blvd</td>\n",
       "      <td>174.0</td>\n",
       "      <td>Canal St &amp; Madison St</td>\n",
       "      <td>member</td>\n",
       "    </tr>\n",
       "    <tr>\n",
       "      <th>3</th>\n",
       "      <td>22178532</td>\n",
       "      <td>2019-04-01 00:13:01</td>\n",
       "      <td>2019-04-01 00:18:58</td>\n",
       "      <td>4151</td>\n",
       "      <td>26</td>\n",
       "      <td>McClurg Ct &amp; Illinois St</td>\n",
       "      <td>133.0</td>\n",
       "      <td>Kingsbury St &amp; Kinzie St</td>\n",
       "      <td>member</td>\n",
       "    </tr>\n",
       "    <tr>\n",
       "      <th>4</th>\n",
       "      <td>22178533</td>\n",
       "      <td>2019-04-01 00:19:26</td>\n",
       "      <td>2019-04-01 00:36:13</td>\n",
       "      <td>3270</td>\n",
       "      <td>202</td>\n",
       "      <td>Halsted St &amp; 18th St</td>\n",
       "      <td>129.0</td>\n",
       "      <td>Blue Island Ave &amp; 18th St</td>\n",
       "      <td>member</td>\n",
       "    </tr>\n",
       "  </tbody>\n",
       "</table>\n",
       "</div>"
      ],
      "text/plain": [
       "    ride_id           started_at             ended_at rideable_type  \\\n",
       "0  22178529  2019-04-01 00:02:22  2019-04-01 00:09:48          6251   \n",
       "1  22178530  2019-04-01 00:03:02  2019-04-01 00:20:30          6226   \n",
       "2  22178531  2019-04-01 00:11:07  2019-04-01 00:15:19          5649   \n",
       "3  22178532  2019-04-01 00:13:01  2019-04-01 00:18:58          4151   \n",
       "4  22178533  2019-04-01 00:19:26  2019-04-01 00:36:13          3270   \n",
       "\n",
       "  start_station_id         start_station_name end_station_id  \\\n",
       "0               81         Daley Center Plaza           56.0   \n",
       "1              317        Wood St & Taylor St           59.0   \n",
       "2              283  LaSalle St & Jackson Blvd          174.0   \n",
       "3               26   McClurg Ct & Illinois St          133.0   \n",
       "4              202       Halsted St & 18th St          129.0   \n",
       "\n",
       "            end_station_name member_casual  \n",
       "0  Desplaines St & Kinzie St        member  \n",
       "1  Wabash Ave & Roosevelt Rd        member  \n",
       "2      Canal St & Madison St        member  \n",
       "3   Kingsbury St & Kinzie St        member  \n",
       "4  Blue Island Ave & 18th St        member  "
      ]
     },
     "execution_count": 111,
     "metadata": {},
     "output_type": "execute_result"
    }
   ],
   "source": [
    "data.head()"
   ]
  },
  {
   "cell_type": "code",
   "execution_count": 112,
   "metadata": {},
   "outputs": [],
   "source": [
    "## Adding new  columns\n",
    "\n",
    "data['started_at'] = pd.to_datetime(data['started_at'], format='%Y-%m-%d %H:%M:%S')\n",
    "data['ended_at'] = pd.to_datetime(data['ended_at'], format='%Y-%m-%d %H:%M:%S')\n",
    "\n",
    "data['trip_duration'] = (data['ended_at'] -data['started_at']).astype('timedelta64[m]')\n",
    "\n",
    "data['month'] = data['started_at'].dt.month\n",
    "data['day'] = data['started_at'].dt.day\n",
    "data['hour'] = data['started_at'].dt.hour\n",
    "data['week_day'] = data['started_at'].dt.day_name()"
   ]
  },
  {
   "cell_type": "code",
   "execution_count": 113,
   "metadata": {},
   "outputs": [
    {
     "data": {
      "text/plain": [
       "count    3.879821e+06\n",
       "mean     2.413742e+01\n",
       "std      5.151491e+02\n",
       "min     -5.700000e+01\n",
       "25%      6.000000e+00\n",
       "50%      1.100000e+01\n",
       "75%      2.100000e+01\n",
       "max      1.564500e+05\n",
       "Name: trip_duration, dtype: float64"
      ]
     },
     "execution_count": 113,
     "metadata": {},
     "output_type": "execute_result"
    }
   ],
   "source": [
    "data['trip_duration'].describe()"
   ]
  },
  {
   "cell_type": "markdown",
   "metadata": {},
   "source": [
    "* The minimum trip duration is zero, which means the trip length is negative in some cases .\n",
    "* These entries can be removed as they are invalid, or were there for maintenance"
   ]
  },
  {
   "cell_type": "code",
   "execution_count": 114,
   "metadata": {},
   "outputs": [
    {
     "name": "stdout",
     "output_type": "stream",
     "text": [
      "Number of trips with trip negative trip duration is 7683\n"
     ]
    }
   ],
   "source": [
    "print(\"Number of trips with trip negative trip duration is \"+ str(len(data[data['trip_duration']<=0])))\n",
    "data.drop(data[data['trip_duration']<=0].index,inplace=True)\n",
    "data = data.reset_index(drop=True)"
   ]
  },
  {
   "cell_type": "markdown",
   "metadata": {},
   "source": [
    "# Visualization"
   ]
  },
  {
   "cell_type": "code",
   "execution_count": 115,
   "metadata": {},
   "outputs": [
    {
     "data": {
      "image/png": "[encoded data removed]",
      "text/plain": [
       "<Figure size 720x360 with 2 Axes>"
      ]
     },
     "metadata": {},
     "output_type": "display_data"
    }
   ],
   "source": [
    "fig, axs = plt.subplots(ncols=2,nrows = 1,figsize=(10,5))\n",
    "\n",
    "ax1 = axs[0]\n",
    "ax2 = axs[1]\n",
    "\n",
    "# plt.suptitle('Analysis of trips with short trip durations (<=1 minute)')\n",
    "\n",
    "plt.subplots_adjust(left=0.1,\n",
    "                    bottom=0.1, \n",
    "                    right=0.9, \n",
    "                    top=0.9, \n",
    "                    wspace=0.4, \n",
    "                    hspace=0.6)\n",
    "\n",
    "\n",
    "sns.set_palette(\"pastel\")\n",
    "sns.barplot(x=data['member_casual'].value_counts(normalize=True).mul(100).index,y=data['member_casual'].value_counts(normalize=True).mul(100),ax=ax1,order=['member','casual'])\n",
    "ax1.set_ylabel('Number of trips (%)')\n",
    "\n",
    "sums = data.groupby(['member_casual'])['trip_duration'].sum().reset_index()\n",
    "sns.barplot(x = 'member_casual',y='trip_duration',data=sums,ax=ax2,order=['member','casual'])\n",
    "ax2.set_ylabel('Trip duration')\n",
    "ax2.set_xlabel('');\n"
   ]
  },
  {
   "cell_type": "markdown",
   "metadata": {},
   "source": [
    "* Though members are taking more trips as compared to casual riders, the total number of hours travelled by casual riders is higher than that of members ."
   ]
  },
  {
   "cell_type": "markdown",
   "metadata": {},
   "source": [
    "* The trip duration is less than 2 in several cases. Trying to check the distribution of such cases. \n",
    "* We can check if such rides are disctributed across many stations, or if they are majorly coming from any particular station, which could mean any errenous data .\n"
   ]
  },
  {
   "cell_type": "markdown",
   "metadata": {},
   "source": [
    "# Case 1 :\n",
    "Checking top 5 stations where trip duration is less than equal to one, and start and end station names are the same"
   ]
  },
  {
   "cell_type": "code",
   "execution_count": 116,
   "metadata": {},
   "outputs": [
    {
     "data": {
      "image/png": "[encoded data removed]",
      "text/plain": [
       "<Figure size 360x720 with 4 Axes>"
      ]
     },
     "metadata": {},
     "output_type": "display_data"
    }
   ],
   "source": [
    "fig, axs = plt.subplots(ncols=1,nrows = 4,figsize=(5,10))\n",
    "\n",
    "ax1 = axs[0]\n",
    "ax2 = axs[1]\n",
    "ax3 = axs[2]\n",
    "ax4 = axs[3]\n",
    "\n",
    "plt.suptitle('Analysis of trips with short trip durations (<=1 minute)')\n",
    "\n",
    "plt.subplots_adjust(left=0.1,\n",
    "                    bottom=0.1, \n",
    "                    right=0.9, \n",
    "                    top=0.9, \n",
    "                    wspace=0.4, \n",
    "                    hspace=0.6)\n",
    "\n",
    "\n",
    "sns.barplot(y=data[(data['trip_duration']<=1) & (data['start_station_name']==data['end_station_name'])]['start_station_name'].value_counts()[:5].index , x=data[(data['trip_duration']<=1) & (data['start_station_name']==data['end_station_name'])]['start_station_name'].value_counts()[:5],ax=ax1)\n",
    "ax1.set_title('Top 5 stations')\n",
    "ax1.set_xlabel('Number of trips')\n",
    "\n",
    "sns.barplot(y=data[(data['trip_duration']<=1) & (data['start_station_name']==data['end_station_name'])]['member_casual'].value_counts().index, x = data[(data['trip_duration']<=1) & (data['start_station_name']==data['end_station_name'])]['member_casual'].value_counts(), ax=ax2 )\n",
    "ax2.set_title('Members vs Casual Riders Count')\n",
    "ax2.set_xlabel('Count of trips')\n",
    "\n",
    "sns.barplot(x=data[(data['trip_duration']<=1) & (data['start_station_name']==data['end_station_name'])]['hour'].value_counts().index, y = data[(data['trip_duration']<=1) & (data['start_station_name']==data['end_station_name'])]['hour'].value_counts(), ax=ax3 )\n",
    "ax3.set_title('Hourly count of trips with duration less than 1')\n",
    "ax3.set_xlabel('Hour')\n",
    "ax3.set_ylabel('Count of trips')\n",
    "\n",
    "sns.barplot(x=data['hour'].value_counts().index, y = data['hour'].value_counts(), ax=ax4 )\n",
    "ax4.set_title('Hourly count of all trips')\n",
    "ax4.set_xlabel('Hour')\n",
    "ax4.set_ylabel('Count of trips');"
   ]
  },
  {
   "cell_type": "markdown",
   "metadata": {},
   "source": [
    "# Case 2 :\n",
    "Checking top 5 stations where trip duration is less than equal to 3"
   ]
  },
  {
   "cell_type": "code",
   "execution_count": 117,
   "metadata": {},
   "outputs": [
    {
     "data": {
      "image/png": "[encoded data removed]",
      "text/plain": [
       "<Figure size 360x720 with 4 Axes>"
      ]
     },
     "metadata": {},
     "output_type": "display_data"
    }
   ],
   "source": [
    "fig, axs = plt.subplots(ncols=1,nrows = 4,figsize=(5,10))\n",
    "\n",
    "ax1 = axs[0]\n",
    "ax2 = axs[1]\n",
    "ax3 = axs[2]\n",
    "ax4 = axs[3]\n",
    "\n",
    "plt.suptitle('Analysis of trips with short trip durations (<=3 minute)')\n",
    "\n",
    "plt.subplots_adjust(left=0.1,\n",
    "                    bottom=0.1, \n",
    "                    right=0.9, \n",
    "                    top=0.9, \n",
    "                    wspace=0.4, \n",
    "                    hspace=0.6)\n",
    "\n",
    "\n",
    "sns.barplot(y=data[(data['trip_duration']<=3)]['start_station_name'].value_counts()[:5].index , x=data[(data['trip_duration']<=3)]['start_station_name'].value_counts()[:5],ax=ax1)\n",
    "ax1.set_title('Top 5 stations')\n",
    "ax1.set_xlabel('Number of trips')\n",
    "\n",
    "sns.barplot(y=data[(data['trip_duration']<=3)]['member_casual'].value_counts().index, x = data[(data['trip_duration']<=3)]['member_casual'].value_counts(), ax=ax2 )\n",
    "ax2.set_title('Members vs Casual Riders Count')\n",
    "ax2.set_xlabel('Count of trips')\n",
    "\n",
    "sns.barplot(x=data[(data['trip_duration']<=3)]['hour'].value_counts().index, y = data[(data['trip_duration']<=3)]['hour'].value_counts(), ax=ax3 )\n",
    "ax3.set_title('Hourly count of trips with duration less than 1')\n",
    "ax3.set_xlabel('Hour')\n",
    "ax3.set_ylabel('Count of trips')\n",
    "\n",
    "sns.barplot(x=data['hour'].value_counts().index, y = data['hour'].value_counts(), ax=ax4 )\n",
    "ax4.set_title('Hourly count of all trips')\n",
    "ax4.set_xlabel('Hour')\n",
    "ax4.set_ylabel('Count of trips');"
   ]
  },
  {
   "cell_type": "markdown",
   "metadata": {},
   "source": [
    "* The number of trips with duration less than or equal to 1 minute, and the same start and end stations is not majorly from any particular station, and is distributed almost equally among different stations .\n",
    "\n",
    "* Most of the short rides are from members\n",
    "\n",
    "* The hourly pattern for short rides matches the hourly pattern for all rides, except that for the times between 7 A.M to 3 P.M , where percentage of trips is considerably high compared to the surrounding hours for short trips"
   ]
  },
  {
   "cell_type": "code",
   "execution_count": 118,
   "metadata": {
    "scrolled": false
   },
   "outputs": [
    {
     "data": {
      "text/html": [
       "<div>\n",
       "<style scoped>\n",
       "    .dataframe tbody tr th:only-of-type {\n",
       "        vertical-align: middle;\n",
       "    }\n",
       "\n",
       "    .dataframe tbody tr th {\n",
       "        vertical-align: top;\n",
       "    }\n",
       "\n",
       "    .dataframe thead th {\n",
       "        text-align: right;\n",
       "    }\n",
       "</style>\n",
       "<table border=\"1\" class=\"dataframe\">\n",
       "  <thead>\n",
       "    <tr style=\"text-align: right;\">\n",
       "      <th></th>\n",
       "      <th>ride_id</th>\n",
       "      <th>started_at</th>\n",
       "      <th>ended_at</th>\n",
       "      <th>rideable_type</th>\n",
       "      <th>start_station_id</th>\n",
       "      <th>start_station_name</th>\n",
       "      <th>end_station_id</th>\n",
       "      <th>end_station_name</th>\n",
       "      <th>member_casual</th>\n",
       "      <th>trip_duration</th>\n",
       "      <th>month</th>\n",
       "      <th>day</th>\n",
       "      <th>hour</th>\n",
       "      <th>week_day</th>\n",
       "    </tr>\n",
       "  </thead>\n",
       "  <tbody>\n",
       "    <tr>\n",
       "      <th>3643851</th>\n",
       "      <td>6E381341D8EE0FBE</td>\n",
       "      <td>2020-02-25 10:52:35</td>\n",
       "      <td>2020-02-25 10:53:45</td>\n",
       "      <td>docked_bike</td>\n",
       "      <td>675</td>\n",
       "      <td>HQ QR</td>\n",
       "      <td>675.0</td>\n",
       "      <td>HQ QR</td>\n",
       "      <td>casual</td>\n",
       "      <td>1.0</td>\n",
       "      <td>2</td>\n",
       "      <td>25</td>\n",
       "      <td>10</td>\n",
       "      <td>Tuesday</td>\n",
       "    </tr>\n",
       "    <tr>\n",
       "      <th>3744120</th>\n",
       "      <td>895933EAD860D2E2</td>\n",
       "      <td>2020-03-09 14:35:06</td>\n",
       "      <td>2020-03-09 14:43:32</td>\n",
       "      <td>docked_bike</td>\n",
       "      <td>675</td>\n",
       "      <td>HQ QR</td>\n",
       "      <td>675.0</td>\n",
       "      <td>HQ QR</td>\n",
       "      <td>casual</td>\n",
       "      <td>8.0</td>\n",
       "      <td>3</td>\n",
       "      <td>9</td>\n",
       "      <td>14</td>\n",
       "      <td>Monday</td>\n",
       "    </tr>\n",
       "    <tr>\n",
       "      <th>3804959</th>\n",
       "      <td>68A492B5ACF882F4</td>\n",
       "      <td>2020-03-09 09:40:57</td>\n",
       "      <td>2020-03-09 09:50:58</td>\n",
       "      <td>docked_bike</td>\n",
       "      <td>675</td>\n",
       "      <td>HQ QR</td>\n",
       "      <td>675.0</td>\n",
       "      <td>HQ QR</td>\n",
       "      <td>casual</td>\n",
       "      <td>10.0</td>\n",
       "      <td>3</td>\n",
       "      <td>9</td>\n",
       "      <td>9</td>\n",
       "      <td>Monday</td>\n",
       "    </tr>\n",
       "    <tr>\n",
       "      <th>3813148</th>\n",
       "      <td>FB7BCA0FE2D0993E</td>\n",
       "      <td>2020-03-09 15:33:46</td>\n",
       "      <td>2020-03-09 15:35:35</td>\n",
       "      <td>docked_bike</td>\n",
       "      <td>675</td>\n",
       "      <td>HQ QR</td>\n",
       "      <td>675.0</td>\n",
       "      <td>HQ QR</td>\n",
       "      <td>casual</td>\n",
       "      <td>1.0</td>\n",
       "      <td>3</td>\n",
       "      <td>9</td>\n",
       "      <td>15</td>\n",
       "      <td>Monday</td>\n",
       "    </tr>\n",
       "  </tbody>\n",
       "</table>\n",
       "</div>"
      ],
      "text/plain": [
       "                  ride_id          started_at            ended_at  \\\n",
       "3643851  6E381341D8EE0FBE 2020-02-25 10:52:35 2020-02-25 10:53:45   \n",
       "3744120  895933EAD860D2E2 2020-03-09 14:35:06 2020-03-09 14:43:32   \n",
       "3804959  68A492B5ACF882F4 2020-03-09 09:40:57 2020-03-09 09:50:58   \n",
       "3813148  FB7BCA0FE2D0993E 2020-03-09 15:33:46 2020-03-09 15:35:35   \n",
       "\n",
       "        rideable_type start_station_id start_station_name end_station_id  \\\n",
       "3643851   docked_bike              675              HQ QR          675.0   \n",
       "3744120   docked_bike              675              HQ QR          675.0   \n",
       "3804959   docked_bike              675              HQ QR          675.0   \n",
       "3813148   docked_bike              675              HQ QR          675.0   \n",
       "\n",
       "        end_station_name member_casual  trip_duration  month  day  hour  \\\n",
       "3643851            HQ QR        casual            1.0      2   25    10   \n",
       "3744120            HQ QR        casual            8.0      3    9    14   \n",
       "3804959            HQ QR        casual           10.0      3    9     9   \n",
       "3813148            HQ QR        casual            1.0      3    9    15   \n",
       "\n",
       "        week_day  \n",
       "3643851  Tuesday  \n",
       "3744120   Monday  \n",
       "3804959   Monday  \n",
       "3813148   Monday  "
      ]
     },
     "execution_count": 118,
     "metadata": {},
     "output_type": "execute_result"
    }
   ],
   "source": [
    "data[data['start_station_name']=='HQ QR']"
   ]
  },
  {
   "cell_type": "markdown",
   "metadata": {},
   "source": [
    "* The modfified data has been saved into an excel sheet for further analysis in tableau ."
   ]
  },
  {
   "cell_type": "code",
   "execution_count": 119,
   "metadata": {},
   "outputs": [],
   "source": [
    "data.to_csv('C:\\Dev\\ML\\Projects\\Google Course Capstone\\FinalData.csv')"
   ]
  }
 ],
 "metadata": {
  "kernelspec": {
   "display_name": "Python 3",
   "language": "python",
   "name": "python3"
  },
  "language_info": {
   "codemirror_mode": {
    "name": "ipython",
    "version": 3
   },
   "file_extension": ".py",
   "mimetype": "text/x-python",
   "name": "python",
   "nbconvert_exporter": "python",
   "pygments_lexer": "ipython3",
   "version": "3.7.3"
  }
 },
 "nbformat": 4,
 "nbformat_minor": 2
}
